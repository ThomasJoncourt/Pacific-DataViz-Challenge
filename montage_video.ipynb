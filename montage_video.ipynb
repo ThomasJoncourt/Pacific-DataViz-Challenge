{
 "cells": [
  {
   "cell_type": "code",
   "execution_count": 3,
   "metadata": {},
   "outputs": [],
   "source": [
    "import cv2\n",
    "import numpy as np\n",
    "from moviepy.editor import VideoFileClip, concatenate_videoclips, AudioFileClip"
   ]
  },
  {
   "cell_type": "code",
   "execution_count": 30,
   "metadata": {},
   "outputs": [],
   "source": [
    "img=[]\n",
    "for i in range(76,107):\n",
    "    img.append(cv2.imread(f'sauvegarde2/img-f-{i}.jpeg'))\n",
    "\n",
    "height,width,layers=img[1].shape \n",
    "\n",
    "video=cv2.VideoWriter('film_covid_noumea1.avi',cv2.VideoWriter_fourcc(*'MJPG'),3,(width,height))\n",
    "\n",
    "for j in range(len(img)):\n",
    "    video.write(img[j])\n",
    "\n",
    "cv2.destroyAllWindows()\n",
    "video.release()"
   ]
  },
  {
   "cell_type": "code",
   "execution_count": 31,
   "metadata": {},
   "outputs": [],
   "source": [
    "img=[]\n",
    "for i in range(107,125):\n",
    "    img.append(cv2.imread(f'sauvegarde2/img-f-{i}.jpeg'))\n",
    "\n",
    "height,width,layers=img[1].shape \n",
    "\n",
    "video=cv2.VideoWriter('film_covid_noumea2.avi',cv2.VideoWriter_fourcc(*'MJPG'),6,(width,height))\n",
    "\n",
    "for j in range(len(img)):\n",
    "    video.write(img[j])\n",
    "\n",
    "cv2.destroyAllWindows()\n",
    "video.release()"
   ]
  },
  {
   "cell_type": "code",
   "execution_count": 32,
   "metadata": {},
   "outputs": [],
   "source": [
    "img=[]\n",
    "for i in range(125,175):\n",
    "    img.append(cv2.imread(f'sauvegarde2/img-f-{i}.jpeg'))\n",
    "\n",
    "height,width,layers=img[1].shape \n",
    "\n",
    "video=cv2.VideoWriter('film_covid_noumea3.avi',cv2.VideoWriter_fourcc(*'MJPG'),12,(width,height))\n",
    "\n",
    "for j in range(len(img)):\n",
    "    video.write(img[j])\n",
    "\n",
    "cv2.destroyAllWindows()\n",
    "video.release()"
   ]
  },
  {
   "cell_type": "code",
   "execution_count": 26,
   "metadata": {},
   "outputs": [],
   "source": [
    "img=[]\n",
    "for i in range(175,575):\n",
    "    img.append(cv2.imread(f'sauvegarde2/img-f-{i}.jpeg'))\n",
    "\n",
    "height,width,layers=img[1].shape \n",
    "\n",
    "video=cv2.VideoWriter('film_covid_noumea4.avi',cv2.VideoWriter_fourcc(*'MJPG'),30,(width,height))\n",
    "\n",
    "for j in range(len(img)):\n",
    "    video.write(img[j])\n",
    "\n",
    "cv2.destroyAllWindows()\n",
    "video.release()"
   ]
  },
  {
   "cell_type": "code",
   "execution_count": 27,
   "metadata": {},
   "outputs": [],
   "source": [
    "img=[]\n",
    "for i in range(575,600):\n",
    "    img.append(cv2.imread(f'sauvegarde2/img-f-{i}.jpeg'))\n",
    "\n",
    "height,width,layers=img[1].shape \n",
    "\n",
    "video=cv2.VideoWriter('film_covid_noumea5.avi',cv2.VideoWriter_fourcc(*'MJPG'),12,(width,height))\n",
    "\n",
    "for j in range(len(img)):\n",
    "    video.write(img[j])\n",
    "\n",
    "cv2.destroyAllWindows()\n",
    "video.release()"
   ]
  },
  {
   "cell_type": "code",
   "execution_count": 28,
   "metadata": {},
   "outputs": [],
   "source": [
    "img=[]\n",
    "for i in range(600,615):\n",
    "    img.append(cv2.imread(f'sauvegarde2/img-f-{i}.jpeg'))\n",
    "\n",
    "height,width,layers=img[1].shape \n",
    "\n",
    "video=cv2.VideoWriter('film_covid_noumea6.avi',cv2.VideoWriter_fourcc(*'MJPG'),6,(width,height))\n",
    "\n",
    "for j in range(len(img)):\n",
    "    video.write(img[j])\n",
    "\n",
    "cv2.destroyAllWindows()\n",
    "video.release()"
   ]
  },
  {
   "cell_type": "code",
   "execution_count": 29,
   "metadata": {},
   "outputs": [],
   "source": [
    "img=[]\n",
    "for i in range(615,1037):\n",
    "    img.append(cv2.imread(f'sauvegarde2/img-f-{i}.jpeg'))\n",
    "\n",
    "height,width,layers=img[1].shape \n",
    "\n",
    "video=cv2.VideoWriter('film_covid_noumea7.avi',cv2.VideoWriter_fourcc(*'MJPG'),3,(width,height))\n",
    "\n",
    "for j in range(len(img)):\n",
    "    video.write(img[j])\n",
    "\n",
    "cv2.destroyAllWindows()\n",
    "video.release()"
   ]
  },
  {
   "cell_type": "code",
   "execution_count": 38,
   "metadata": {},
   "outputs": [],
   "source": [
    "clip1= VideoFileClip(\"film_covid_noumea1.avi\")\n",
    "clip2= VideoFileClip(\"film_covid_noumea2.avi\")\n",
    "clip3= VideoFileClip(\"film_covid_noumea3.avi\")\n",
    "clip4= VideoFileClip(\"film_covid_noumea4.avi\")\n",
    "clip5= VideoFileClip(\"film_covid_noumea5.avi\")\n",
    "clip6= VideoFileClip(\"film_covid_noumea6.avi\")\n",
    "clip7= VideoFileClip(\"film_covid_noumea7.avi\")"
   ]
  },
  {
   "cell_type": "code",
   "execution_count": 39,
   "metadata": {},
   "outputs": [],
   "source": [
    "final_clip= concatenate_videoclips([clip1,clip2,clip3,clip4,clip5,clip6,clip7])"
   ]
  },
  {
   "cell_type": "code",
   "execution_count": 46,
   "metadata": {},
   "outputs": [],
   "source": [
    "audio = AudioFileClip(\"Epic.mp3\")"
   ]
  },
  {
   "cell_type": "code",
   "execution_count": 49,
   "metadata": {},
   "outputs": [],
   "source": [
    "final_clip = final_clip.set_audio(audio)"
   ]
  },
  {
   "cell_type": "code",
   "execution_count": 50,
   "metadata": {},
   "outputs": [
    {
     "name": "stderr",
     "output_type": "stream",
     "text": [
      "chunk:   0%|          | 2/4725 [00:00<06:53, 11.43it/s, now=None]"
     ]
    },
    {
     "name": "stdout",
     "output_type": "stream",
     "text": [
      "Moviepy - Building video new.mp4.\n",
      "MoviePy - Writing audio in newTEMP_MPY_wvf_snd.mp3\n"
     ]
    },
    {
     "name": "stderr",
     "output_type": "stream",
     "text": [
      "t:   0%|          | 0/5283 [00:00<?, ?it/s, now=None]                "
     ]
    },
    {
     "name": "stdout",
     "output_type": "stream",
     "text": [
      "MoviePy - Done.\n",
      "Moviepy - Writing video new.mp4\n",
      "\n"
     ]
    },
    {
     "name": "stderr",
     "output_type": "stream",
     "text": [
      "                                                                \r"
     ]
    },
    {
     "name": "stdout",
     "output_type": "stream",
     "text": [
      "Moviepy - Done !\n",
      "Moviepy - video ready new.mp4\n"
     ]
    }
   ],
   "source": [
    "final_clip.write_videofile(\"final_clip.mp4\")"
   ]
  }
 ],
 "metadata": {
  "kernelspec": {
   "display_name": "Python 3.8.8 ('base')",
   "language": "python",
   "name": "python3"
  },
  "language_info": {
   "codemirror_mode": {
    "name": "ipython",
    "version": 3
   },
   "file_extension": ".py",
   "mimetype": "text/x-python",
   "name": "python",
   "nbconvert_exporter": "python",
   "pygments_lexer": "ipython3",
   "version": "3.8.8"
  },
  "orig_nbformat": 4,
  "vscode": {
   "interpreter": {
    "hash": "7d1962ebe7a0e2a2e85ea33467ffefcaf9a1a84cbc83a928177a012af89e0b2e"
   }
  }
 },
 "nbformat": 4,
 "nbformat_minor": 2
}
