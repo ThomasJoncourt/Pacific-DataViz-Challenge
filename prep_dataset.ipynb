{
 "cells": [
  {
   "cell_type": "code",
   "execution_count": 1,
   "metadata": {},
   "outputs": [],
   "source": [
    "import pandas as pd"
   ]
  },
  {
   "cell_type": "code",
   "execution_count": 50,
   "metadata": {},
   "outputs": [],
   "source": [
    "df = pd.read_csv(r\"C:\\Users\\33638\\Downloads\\SPC-DF_COVID-1.0-all_ (1).csv\")\n",
    "df.rename(columns={\"FREQ: Frequency\":\"FREQ\",\"TIME_PERIOD: Time\":\"TIME_PERIOD\",\"GEO_PICT: Pacific Island Countries and territories\":\"GEO_PICT\",\"INDICATOR: Indicator\":\"INDICATOR\"},inplace=True)\n",
    "df = df.query(\"FREQ == 'D: Daily' and GEO_PICT == 'NC: New Caledonia'\")\n",
    "df =df[[\"TIME_PERIOD\",\"INDICATOR\",\"OBS_VALUE\"]]"
   ]
  },
  {
   "cell_type": "code",
   "execution_count": 51,
   "metadata": {},
   "outputs": [
    {
     "data": {
      "text/plain": [
       "array(['CASES28D: Number of cases of COVID-19 in the past 28 days',\n",
       "       'MIDYEARPOPEST: Mid-year population estimate',\n",
       "       'CASES14D: Number of cases of COVID-19 in the past 14 days',\n",
       "       'CASES42D: Number of cases of COVID-19 in the past 42 days',\n",
       "       'CASES: Cumulated number of cases of COVID-19',\n",
       "       'DEATHS: Cumulated number of deaths due to COVID-19'], dtype=object)"
      ]
     },
     "execution_count": 51,
     "metadata": {},
     "output_type": "execute_result"
    }
   ],
   "source": [
    "df.INDICATOR.unique()"
   ]
  },
  {
   "cell_type": "code",
   "execution_count": 52,
   "metadata": {},
   "outputs": [],
   "source": [
    "df_DEATHS = df.query(\"INDICATOR == 'DEATHS: Cumulated number of deaths due to COVID-19'\").reset_index(drop=True)\n",
    "df_CASES = df.query(\"INDICATOR == 'CASES: Cumulated number of cases of COVID-19'\").reset_index(drop=True)\n",
    "df_CASES14D = df.query(\"INDICATOR == 'CASES14D: Number of cases of COVID-19 in the past 14 days'\").reset_index(drop=True)\n"
   ]
  },
  {
   "cell_type": "code",
   "execution_count": 53,
   "metadata": {},
   "outputs": [
    {
     "name": "stderr",
     "output_type": "stream",
     "text": [
      "C:\\Users\\33638\\AppData\\Local\\Temp\\ipykernel_9916\\4553758.py:2: SettingWithCopyWarning: \n",
      "A value is trying to be set on a copy of a slice from a DataFrame\n",
      "\n",
      "See the caveats in the documentation: https://pandas.pydata.org/pandas-docs/stable/user_guide/indexing.html#returning-a-view-versus-a-copy\n",
      "  df_DEATHS[\"OBS_VALUE-1\"][0] = 0\n",
      "C:\\Users\\33638\\AppData\\Local\\Temp\\ipykernel_9916\\4553758.py:7: SettingWithCopyWarning: \n",
      "A value is trying to be set on a copy of a slice from a DataFrame\n",
      "\n",
      "See the caveats in the documentation: https://pandas.pydata.org/pandas-docs/stable/user_guide/indexing.html#returning-a-view-versus-a-copy\n",
      "  df_CASES[\"OBS_VALUE-1\"][0] = 0\n"
     ]
    }
   ],
   "source": [
    "df_DEATHS[\"OBS_VALUE-1\"] = df_DEATHS.OBS_VALUE.shift(1)\n",
    "df_DEATHS[\"OBS_VALUE-1\"][0] = 0\n",
    "df_DEATHS[\"DEATH\"] = df_DEATHS[\"OBS_VALUE\"] - df_DEATHS[\"OBS_VALUE-1\"] \n",
    "df_DEATHS = df_DEATHS.drop([\"INDICATOR\",\"OBS_VALUE-1\"],axis=1).rename(columns={\"OBS_VALUE\":\"DEATH_CUMSUM\"})\n",
    "\n",
    "df_CASES[\"OBS_VALUE-1\"] = df_CASES.OBS_VALUE.shift(1)\n",
    "df_CASES[\"OBS_VALUE-1\"][0] = 0\n",
    "df_CASES[\"CASES\"] = df_CASES[\"OBS_VALUE\"] - df_CASES[\"OBS_VALUE-1\"]\n",
    "df_CASES = df_CASES.drop([\"INDICATOR\",\"OBS_VALUE-1\"],axis=1).rename(columns={\"OBS_VALUE\":\"CASES_CUMSUM\"}) \n",
    "df_CASES[\"DEATH\"] = df_DEATHS[\"DEATH\"]\n",
    "df_CASES[\"DEATH_CUMSUM\"] = df_DEATHS[\"DEATH_CUMSUM\"]\n",
    "df_CASES[\"CASES14\"] = [0 for i in range(14)] + df_CASES14D[\"OBS_VALUE\"].values.tolist()"
   ]
  },
  {
   "cell_type": "code",
   "execution_count": 54,
   "metadata": {},
   "outputs": [
    {
     "data": {
      "text/html": [
       "<div>\n",
       "<style scoped>\n",
       "    .dataframe tbody tr th:only-of-type {\n",
       "        vertical-align: middle;\n",
       "    }\n",
       "\n",
       "    .dataframe tbody tr th {\n",
       "        vertical-align: top;\n",
       "    }\n",
       "\n",
       "    .dataframe thead th {\n",
       "        text-align: right;\n",
       "    }\n",
       "</style>\n",
       "<table border=\"1\" class=\"dataframe\">\n",
       "  <thead>\n",
       "    <tr style=\"text-align: right;\">\n",
       "      <th></th>\n",
       "      <th>TIME_PERIOD</th>\n",
       "      <th>CASES_CUMSUM</th>\n",
       "      <th>CASES</th>\n",
       "      <th>DEATH</th>\n",
       "      <th>DEATH_CUMSUM</th>\n",
       "      <th>CASES14</th>\n",
       "    </tr>\n",
       "  </thead>\n",
       "  <tbody>\n",
       "    <tr>\n",
       "      <th>0</th>\n",
       "      <td>2020-01-01</td>\n",
       "      <td>0</td>\n",
       "      <td>0.0</td>\n",
       "      <td>0.0</td>\n",
       "      <td>0</td>\n",
       "      <td>0</td>\n",
       "    </tr>\n",
       "    <tr>\n",
       "      <th>1</th>\n",
       "      <td>2020-01-02</td>\n",
       "      <td>0</td>\n",
       "      <td>0.0</td>\n",
       "      <td>0.0</td>\n",
       "      <td>0</td>\n",
       "      <td>0</td>\n",
       "    </tr>\n",
       "    <tr>\n",
       "      <th>2</th>\n",
       "      <td>2020-01-03</td>\n",
       "      <td>0</td>\n",
       "      <td>0.0</td>\n",
       "      <td>0.0</td>\n",
       "      <td>0</td>\n",
       "      <td>0</td>\n",
       "    </tr>\n",
       "    <tr>\n",
       "      <th>3</th>\n",
       "      <td>2020-01-04</td>\n",
       "      <td>0</td>\n",
       "      <td>0.0</td>\n",
       "      <td>0.0</td>\n",
       "      <td>0</td>\n",
       "      <td>0</td>\n",
       "    </tr>\n",
       "    <tr>\n",
       "      <th>4</th>\n",
       "      <td>2020-01-05</td>\n",
       "      <td>0</td>\n",
       "      <td>0.0</td>\n",
       "      <td>0.0</td>\n",
       "      <td>0</td>\n",
       "      <td>0</td>\n",
       "    </tr>\n",
       "    <tr>\n",
       "      <th>...</th>\n",
       "      <td>...</td>\n",
       "      <td>...</td>\n",
       "      <td>...</td>\n",
       "      <td>...</td>\n",
       "      <td>...</td>\n",
       "      <td>...</td>\n",
       "    </tr>\n",
       "    <tr>\n",
       "      <th>1033</th>\n",
       "      <td>2022-10-30</td>\n",
       "      <td>74406</td>\n",
       "      <td>0.0</td>\n",
       "      <td>0.0</td>\n",
       "      <td>314</td>\n",
       "      <td>60</td>\n",
       "    </tr>\n",
       "    <tr>\n",
       "      <th>1034</th>\n",
       "      <td>2022-10-31</td>\n",
       "      <td>74406</td>\n",
       "      <td>0.0</td>\n",
       "      <td>0.0</td>\n",
       "      <td>314</td>\n",
       "      <td>60</td>\n",
       "    </tr>\n",
       "    <tr>\n",
       "      <th>1035</th>\n",
       "      <td>2022-11-01</td>\n",
       "      <td>74406</td>\n",
       "      <td>0.0</td>\n",
       "      <td>0.0</td>\n",
       "      <td>314</td>\n",
       "      <td>26</td>\n",
       "    </tr>\n",
       "    <tr>\n",
       "      <th>1036</th>\n",
       "      <td>2022-11-02</td>\n",
       "      <td>74440</td>\n",
       "      <td>34.0</td>\n",
       "      <td>0.0</td>\n",
       "      <td>314</td>\n",
       "      <td>60</td>\n",
       "    </tr>\n",
       "    <tr>\n",
       "      <th>1037</th>\n",
       "      <td>2022-11-03</td>\n",
       "      <td>74440</td>\n",
       "      <td>0.0</td>\n",
       "      <td>0.0</td>\n",
       "      <td>314</td>\n",
       "      <td>60</td>\n",
       "    </tr>\n",
       "  </tbody>\n",
       "</table>\n",
       "<p>1038 rows × 6 columns</p>\n",
       "</div>"
      ],
      "text/plain": [
       "     TIME_PERIOD  CASES_CUMSUM  CASES  DEATH  DEATH_CUMSUM  CASES14\n",
       "0     2020-01-01             0    0.0    0.0             0        0\n",
       "1     2020-01-02             0    0.0    0.0             0        0\n",
       "2     2020-01-03             0    0.0    0.0             0        0\n",
       "3     2020-01-04             0    0.0    0.0             0        0\n",
       "4     2020-01-05             0    0.0    0.0             0        0\n",
       "...          ...           ...    ...    ...           ...      ...\n",
       "1033  2022-10-30         74406    0.0    0.0           314       60\n",
       "1034  2022-10-31         74406    0.0    0.0           314       60\n",
       "1035  2022-11-01         74406    0.0    0.0           314       26\n",
       "1036  2022-11-02         74440   34.0    0.0           314       60\n",
       "1037  2022-11-03         74440    0.0    0.0           314       60\n",
       "\n",
       "[1038 rows x 6 columns]"
      ]
     },
     "execution_count": 54,
     "metadata": {},
     "output_type": "execute_result"
    }
   ],
   "source": [
    "df_CASES"
   ]
  },
  {
   "cell_type": "code",
   "execution_count": 55,
   "metadata": {},
   "outputs": [],
   "source": [
    "df_CASES.to_csv(\"cases_new_caledonia.csv\",index=False)"
   ]
  }
 ],
 "metadata": {
  "kernelspec": {
   "display_name": "Python 3.8.8 ('base')",
   "language": "python",
   "name": "python3"
  },
  "language_info": {
   "codemirror_mode": {
    "name": "ipython",
    "version": 3
   },
   "file_extension": ".py",
   "mimetype": "text/x-python",
   "name": "python",
   "nbconvert_exporter": "python",
   "pygments_lexer": "ipython3",
   "version": "3.8.8"
  },
  "orig_nbformat": 4,
  "vscode": {
   "interpreter": {
    "hash": "7d1962ebe7a0e2a2e85ea33467ffefcaf9a1a84cbc83a928177a012af89e0b2e"
   }
  }
 },
 "nbformat": 4,
 "nbformat_minor": 2
}
